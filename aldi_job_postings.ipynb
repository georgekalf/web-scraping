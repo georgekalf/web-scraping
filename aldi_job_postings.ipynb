{
 "cells": [
  {
   "cell_type": "code",
   "execution_count": 1,
   "metadata": {},
   "outputs": [],
   "source": [
    "# loading the libraries \n",
    "\n",
    "import requests\n",
    "from bs4 import BeautifulSoup\n",
    "import pandas as pd\n",
    "import matplotlib.pyplot as plt\n",
    "import seaborn as sns\n",
    "import statsmodels.formula.api as smf\n",
    "import statsmodels.api as sm"
   ]
  },
  {
   "cell_type": "markdown",
   "metadata": {},
   "source": [
    "### I examined the CSV file of Aldi job postings and identified errors in various columns.\n",
    "\n",
    "### Observations on Salary (Lower-Upper) and Weekly Hours:\n",
    "- Issues arise with salary (lower-upper) and weekly hours due to variations in the way this information is presented on the Aldi job postings page.\n",
    "- Some job positions have NaN values for weekly hours, and the salary section contains discrepancies, including descriptions per hour, per week, or annually.\n",
    "- Salaries may appear lower than expected due to daily rates (e.g., 'Quality Control Deputy' in the 'Quality Control Department' specifies £4.00 per hour per day).\n",
    "- Some values exhibit problems, such as spaces between numbers, affecting the accuracy of the data.\n",
    "- Salaries are occasionally listed per week instead of per year.\n",
    "- Certain job positions lack information altogether.\n",
    "\n",
    "### Specific Examples:\n",
    "- In the 'Data Scientist' position, the second row and 'Salary Lower' show 57.0. This occurs because the actual amount is presented as '57, 130 pounds,' and the space between 57 and 130 leads to the issue."
   ]
  },
  {
   "cell_type": "code",
   "execution_count": 3,
   "metadata": {},
   "outputs": [],
   "source": [
    "## Completed code with extra columns and corrected parts that did not run before\n",
    "\n",
    "def scrape_aldi_jobs(starting_page = 'head-office'):\n",
    "    url = \"https://www.aldirecruitment.co.uk/\" + starting_page\n",
    "    page = requests.get(url)\n",
    "    soup = BeautifulSoup(page.content, \"html.parser\")\n",
    "    links = []\n",
    "    for link in soup.findAll('a'):\n",
    "        new_link = link.get('href')\n",
    "        if new_link != None and new_link.startswith('/head-office/'):\n",
    "            new_link = new_link.replace('/head-office','')\n",
    "            if new_link != '/':\n",
    "                links.append(new_link)\n",
    "    \n",
    "    ## Lists that we use in our code\n",
    "    department = []\n",
    "    titles = []\n",
    "    ubs = []\n",
    "    lbs = []\n",
    "    hours = []\n",
    "    \n",
    "    ## Extra columns\n",
    "    h_l = []\n",
    "    c_p = []\n",
    "    c_m = []\n",
    "    m_i = []\n",
    "\n",
    "    for link in links:\n",
    "        category_url = url + link\n",
    "        page = requests.get(category_url)\n",
    "        soup = BeautifulSoup(page.content, \"html.parser\")\n",
    "        postings = soup.findAll(\"div\", class_=\"c-career--dropdown\")\n",
    "        for posting in postings:\n",
    "            # also grabbing the department information\n",
    "            dep_name = link.replace('-',' ').replace('/','')\n",
    "            department.append(dep_name)\n",
    "            titles.append(posting.find(\"div\", class_=\"c-career--dropdown__content\").find('h2').text)\n",
    "            details = posting.findAll(\"div\", class_=\"c-job-details__content\")\n",
    "            for detail in details:\n",
    "                detail_title = detail.find('span', class_=\"c-job-details__title\").text\n",
    "                detail_text = detail.find('div', class_=\"c-job-details__text\").text\n",
    "                if detail_title == 'Salary':\n",
    "                    temp = detail_text.replace(',','')\n",
    "                    temp = temp.replace('-','')\n",
    "                    temp = temp.split()\n",
    "                    salary_numbers = []\n",
    "                    # there is a space between numbers so we have to fix it\n",
    "                    for index in range(len(temp)):\n",
    "                        if index < len(temp) - 1 and temp[index].startswith('£') and temp[index+1].isdigit():\n",
    "                            salary_numbers.append(float(temp[index][1:]+temp[index+1]))\n",
    "                        elif temp[index].startswith('£'):\n",
    "                            salary_numbers.append(float(temp[index][1:]))\n",
    "                    # salary may not be specified\n",
    "                    if len(salary_numbers) > 0:\n",
    "                        ## Salaries are sometimes specified as per week instead of per year\n",
    "                        if 'per' in temp and 'week' in temp:\n",
    "                            salary_numbers = [salary*52 for salary in salary_numbers]\n",
    "                        # checking salaries specified as per hour instead of per week\n",
    "                        elif 'per' in temp and 'hour' in temp:\n",
    "                            salary_numbers = [salary*52*40 for salary in salary_numbers]\n",
    "                        ubs.append(max(salary_numbers))\n",
    "                        lbs.append(min(salary_numbers))\n",
    "                    else:\n",
    "                        ubs.append(None)\n",
    "                        lbs.append(None)\n",
    "                # some postings say \"Benefits\" instead of \"Hours and benefits\", and sometimes the spelling is capitalized differently\n",
    "                elif detail_title.lower() == 'hours and benefits' or detail_title.lower() == 'benefits':\n",
    "                    # some postings do not specify a number of hours per week\n",
    "                    work_time = None\n",
    "                    for s in detail_text.split():\n",
    "                        if '-hour' in s:\n",
    "                            work_time = s\n",
    "                            # some postings write, e.g., 40-hour per week, some 40-hours per week\n",
    "                            if '-hours' in s:\n",
    "                                work_time = int(work_time.replace('-hours',''))\n",
    "                            else:\n",
    "                                work_time = int(work_time.replace('-hour',''))\n",
    "                            # solving relevant problems regarding the working hours\n",
    "                    if 'hours' in detail_text.split():\n",
    "                        Index = detail_text.split().index('hours')\n",
    "                        work_time = int(detail_text.split()[Index-1])\n",
    "                    hours.append(work_time)\n",
    "                    # adding extra columns about medical insurance, pension, maternity \n",
    "                    if 'insurance' or 'assurance' in detail_text.split():\n",
    "                        if '6' in detail_text.split():\n",
    "                            m_i.append(\"Private employee medical insurance after 6 months\")\n",
    "                        elif '4' in detail_text.split():\n",
    "                            m_i.append(\"Private employee medical insurance after 4 years\")\n",
    "                        elif 'start.' in detail_text.split():\n",
    "                            m_i.append(\"Private employee medical insurance when you start\")\n",
    "                        else:\n",
    "                            m_i.append('')\n",
    "                    if 'pension' or 'pension,' in detail_text.split():\n",
    "                        c_p.append(\"Yes\")\n",
    "                    else:\n",
    "                        c_p.append(\"No\")\n",
    "                    if 'maternity' or 'maternity,' in detail_text.split():\n",
    "                        c_m.append(\"Possible\")\n",
    "                    else:\n",
    "                        c_m.append(\"Not Possible\")\n",
    "                # some postings say 'Holiday allowance', 'Holiday', 'Holiday allownance',and other'Holiday Allowance'. Solving this problem\n",
    "                if detail_title in ['Holiday allowance', 'Holiday', 'Holiday allownance','Holiday Allowance']:\n",
    "                    days_off = None\n",
    "                    if 'weeks’' in detail_text.split():\n",
    "                        Index = detail_text.split().index('weeks’')\n",
    "                        days_off = int(detail_text.split()[Index-1])\n",
    "                    elif 'days' in detail_text.split():\n",
    "                        Index = detail_text.split().index('days')\n",
    "                        days_off = int(detail_text.split()[Index-1])/7\n",
    "                    elif 'days’' in detail_text.split():\n",
    "                        Index = detail_text.split().index('days’')\n",
    "                        days_off = int(detail_text.split()[Index-1])/7\n",
    "                    h_l.append(days_off)\n",
    "                        \n",
    "    job_data = pd.DataFrame(\n",
    "        {'Department': department,\n",
    "         'Job title': titles,\n",
    "         'Salary lower': lbs,\n",
    "         'Salary upper': ubs,\n",
    "         'Weekly hours': hours,\n",
    "         'Holiday Allowance': h_l,\n",
    "         'Company pension': c_p,\n",
    "         'Company maternity': c_m,\n",
    "         'Medical Insurance': m_i\n",
    "        })\n",
    "    return job_data"
   ]
  },
  {
   "cell_type": "markdown",
   "metadata": {},
   "source": [
    "- Upon careful examination of the additional details we've incorporated, each one contributes to providing additional motivation for potential applicants.\n",
    "- In this scenario, the company endeavors to enhance the appeal of each offered position, aiming to attract a greater number of applications.\n",
    "- By doing so, the company establishes a more competitive edge compared to other organizations in terms of the benefits associated with each job position.\n",
    "- Moreover, the company strives to address a broad spectrum of market needs, including provisions for maternity and paternity leave, the company's pension scheme, and medical insurance."
   ]
  },
  {
   "cell_type": "code",
   "execution_count": null,
   "metadata": {},
   "outputs": [],
   "source": [
    "aldi_job_data = scrape_aldi_jobs()\n",
    "aldi_job_data"
   ]
  },
  {
   "cell_type": "markdown",
   "metadata": {},
   "source": [
    "## 1. Data Cleansing"
   ]
  },
  {
   "cell_type": "code",
   "execution_count": null,
   "metadata": {},
   "outputs": [
    {
     "data": {
      "image/png": "[encoded data removed]",
      "text/plain": [
       "<Figure size 432x288 with 1 Axes>"
      ]
     },
     "metadata": {
      "needs_background": "light"
     },
     "output_type": "display_data"
    }
   ],
   "source": [
    "# plot the data about 'Salary lower'\n",
    "sns.histplot(aldi_job_data['Salary lower'], kde= False)\n",
    "plt.show()\n",
    "\n",
    "# It is obvious from the graph below that the average of the lower salary is close to 30000 and is referred to close 35 different job positions"
   ]
  },
  {
   "cell_type": "code",
   "execution_count": null,
   "metadata": {},
   "outputs": [
    {
     "data": {
      "image/png": "[encoded data removed]",
      "text/plain": [
       "<Figure size 432x288 with 1 Axes>"
      ]
     },
     "metadata": {
      "needs_background": "light"
     },
     "output_type": "display_data"
    }
   ],
   "source": [
    "# plot the data about 'Salary upper'\n",
    "sns.histplot(aldi_job_data['Salary upper'], kde= False)\n",
    "plt.show()\n",
    "\n",
    "# from the graph below we can conclude that the upper salary for the majority of the job positions (close to 27) is around 40.000"
   ]
  },
  {
   "cell_type": "code",
   "execution_count": null,
   "metadata": {},
   "outputs": [
    {
     "data": {
      "text/plain": [
       "array(['national administration', 'regional administration',\n",
       "       'national buying', 'corporate responsibility', 'customer service',\n",
       "       'ecommerce', 'global business coordination', 'hr', 'it',\n",
       "       'marketing communications', 'merchandising category',\n",
       "       'national property', 'supply chain management',\n",
       "       'quality assurance', 'quality control'], dtype=object)"
      ]
     },
     "execution_count": 35,
     "metadata": {},
     "output_type": "execute_result"
    }
   ],
   "source": [
    "# use of the unique function to take a look at the values taken on by Department, and Job title\n",
    "aldi_job_data[\"Department\"].unique()"
   ]
  },
  {
   "cell_type": "code",
   "execution_count": null,
   "metadata": {},
   "outputs": [
    {
     "data": {
      "text/plain": [
       "array(['National Finance & Administration Manager',\n",
       "       'National Tax Manager', 'Data Scientist',\n",
       "       'National Finance & Administration Team Leader',\n",
       "       'Technical Analyst', 'Tax Specialist',\n",
       "       'National Administration Analyst',\n",
       "       'Personal Assistant - National  Administration',\n",
       "       'National  Administration Assistant',\n",
       "       'Administration Support Assistant',\n",
       "       'National Administration Apprentice',\n",
       "       'Data Protection Team Leader', 'Data Protection Analyst',\n",
       "       'Data Protection Assistant', 'Property Assistant',\n",
       "       'Logistics Assistant', 'Trading Assistant',\n",
       "       'Store Operations Assistant',\n",
       "       'Regional Administration Personal Assistant',\n",
       "       'Administration Support Assistant ',\n",
       "       'Regional Administration Apprentice', 'National Buying Director',\n",
       "       'National Buying Manager', 'National Buying Analyst',\n",
       "       'Pricing Analyst', 'Pricing Assistant',\n",
       "       'Personal Assistant - National Buying Department',\n",
       "       'National Buying Assistant',\n",
       "       'National Buying Administration Assistant', 'Office Administrator',\n",
       "       'National Project Manager', 'National Project Specialist',\n",
       "       'Corporate Responsibility Manager',\n",
       "       'Corporate Responsibility Assistant', 'Customer Service  Manager',\n",
       "       'Customer Service Assistant Manager',\n",
       "       'Forecasting & Demand Assistant', 'Customer Service Team Leader ',\n",
       "       'Customer Service Advisor', 'eCommerce Senior Manager',\n",
       "       'eCommerce Manager', 'eCommerce Team Leader',\n",
       "       'eCommerce Senior Analyst', 'eCommerce Analyst',\n",
       "       'eCommerce Associate Analyst', '  eCommerce Specialist ',\n",
       "       'eCommerce Assistant ', 'eCommerce Administrator', 'GBC Director',\n",
       "       'GBC Senior Manager', 'GBC Manager', 'GBC Senior Analyst',\n",
       "       'GBC Analyst', 'GBC Associate Analyst', 'GBC Specialist',\n",
       "       'GBC Personal Assistant', 'GBC Assistant', 'HR Manager',\n",
       "       'HR Senior Analyst', 'HR Team Leader', 'HR Technical Analyst',\n",
       "       'HR Analyst', 'HR Assistant', 'National IT Senior Manager',\n",
       "       'National IT Manager', 'National IT Senior Analyst',\n",
       "       'National IT Analyst', 'National IT Specialist ',\n",
       "       'National IT Assistant', 'National IT Technician',\n",
       "       'National IT Apprentice', 'Marketing & Communications Manager',\n",
       "       'Marketing & Communications Assistant', 'Merchandising Manager',\n",
       "       'Merchandising Assistant', 'Category Analyst',\n",
       "       'Category Assistant', 'Regional Property Director',\n",
       "       'National Property Manager', 'Regional Property Manager',\n",
       "       'National Property Assistant', 'Regional Property Assistant',\n",
       "       'Supply Chain Manager', 'Supply Chain Analyst',\n",
       "       'Supply Chain Assistant', 'Supply Chain Co-ordinator',\n",
       "       'Supply Chain Administrator', 'Customs Manager', 'Customs Analyst',\n",
       "       'Customs Assistant', 'Quality Assurance Director',\n",
       "       'Quality Assurance Manager', 'Quality Assurance Assistant',\n",
       "       'Product Technologist', 'Sampling Chef', 'Sampling Assistant',\n",
       "       'Quality Control Leader', 'Quality Control Deputy',\n",
       "       'Quality Control Assistant'], dtype=object)"
      ]
     },
     "execution_count": 36,
     "metadata": {},
     "output_type": "execute_result"
    }
   ],
   "source": [
    "aldi_job_data[\"Job title\"].unique()"
   ]
  },
  {
   "cell_type": "code",
   "execution_count": null,
   "metadata": {},
   "outputs": [
    {
     "name": "stdout",
     "output_type": "stream",
     "text": [
      "False\n",
      "Empty DataFrame\n",
      "Columns: [Department, Job title, Salary lower, Salary upper, Weekly hours, Holiday Allowance, Company pension, Company maternity, Medical Insurance]\n",
      "Index: []\n"
     ]
    }
   ],
   "source": [
    "# below we have a FALSE output because there are no duplicates (use of the duplicate function in order to detect any duplicates)\n",
    "\n",
    "dups = aldi_job_data.duplicated() \n",
    "print(dups.any()) \n",
    "print(aldi_job_data[dups]) "
   ]
  },
  {
   "cell_type": "code",
   "execution_count": null,
   "metadata": {},
   "outputs": [
    {
     "name": "stdout",
     "output_type": "stream",
     "text": [
      "(99, 9)\n"
     ]
    }
   ],
   "source": [
    "# lets now check the current size of dataset\n",
    "print(aldi_job_data.shape) # seems logical regarding the dataframe above"
   ]
  },
  {
   "cell_type": "code",
   "execution_count": null,
   "metadata": {},
   "outputs": [
    {
     "data": {
      "text/plain": [
       "array([False, False, False, False, False, False, False, False, False])"
      ]
     },
     "execution_count": 39,
     "metadata": {},
     "output_type": "execute_result"
    }
   ],
   "source": [
    "# cheking for any dublicated columns\n",
    "\n",
    "aldi_job_data.columns.duplicated()"
   ]
  },
  {
   "cell_type": "code",
   "execution_count": null,
   "metadata": {},
   "outputs": [
    {
     "data": {
      "text/plain": [
       "Department           False\n",
       "Job title            False\n",
       "Salary lower          True\n",
       "Salary upper          True\n",
       "Weekly hours          True\n",
       "Holiday Allowance    False\n",
       "Company pension      False\n",
       "Company maternity    False\n",
       "Medical Insurance    False\n",
       "dtype: bool"
      ]
     },
     "execution_count": 40,
     "metadata": {},
     "output_type": "execute_result"
    }
   ],
   "source": [
    "# let's now check if there are any empty cells\n",
    "\n",
    "aldi_job_data.isna().any()"
   ]
  },
  {
   "cell_type": "markdown",
   "metadata": {},
   "source": [
    "## 2. Data Imputation"
   ]
  },
  {
   "cell_type": "code",
   "execution_count": null,
   "metadata": {},
   "outputs": [],
   "source": [
    "# load the necessary libraries\n",
    "\n",
    "from sklearn import impute\n",
    "import numpy as np"
   ]
  },
  {
   "cell_type": "code",
   "execution_count": null,
   "metadata": {},
   "outputs": [
    {
     "name": "stdout",
     "output_type": "stream",
     "text": [
      "[[50. 50. 40. 40. 40. 40. nan 40. 40.]\n",
      " [40. 30. 40. 40. 40. 40. 40. 40. 40.]\n",
      " [40. 40. 30. nan 50. 40. 40. 40. 40.]\n",
      " [40. 40. 40. 50. 40. 50. 40. 50. 50.]\n",
      " [40. 40. 40. 50. 50. 40. 40. nan nan]\n",
      " [40. 40. 40. nan 50. 50. 40. 40. 40.]\n",
      " [40. 40. 40. 50. 40. 40. 40. 40. 40.]\n",
      " [50. 50. 40. 40. 40. 40. 40. 30. 50.]\n",
      " [40. 50. 40. 40. 40. 50. 50. 50. 40.]\n",
      " [40. 50. 40. 40. 40. 40. 50. 40. 40.]\n",
      " [nan 50. 40. 40. 40. 40. 48. 20. 20.]]\n"
     ]
    }
   ],
   "source": [
    "# replacing all the missing values of the column 'Weekly hours' with the average of hours and reshaping the array in order to be able to change it\n",
    "\n",
    "h_a = np.array(aldi_job_data['Weekly hours']).reshape(11, 9)\n",
    "print(h_a)"
   ]
  },
  {
   "cell_type": "code",
   "execution_count": null,
   "metadata": {},
   "outputs": [
    {
     "name": "stdout",
     "output_type": "stream",
     "text": [
      "[[50.         50.         40.         40.         40.         40.\n",
      "  42.8        40.         40.        ]\n",
      " [40.         30.         40.         40.         40.         40.\n",
      "  40.         40.         40.        ]\n",
      " [40.         40.         30.         43.33333333 50.         40.\n",
      "  40.         40.         40.        ]\n",
      " [40.         40.         40.         50.         40.         50.\n",
      "  40.         50.         50.        ]\n",
      " [40.         40.         40.         50.         50.         40.\n",
      "  40.         39.         40.        ]\n",
      " [40.         40.         40.         43.33333333 50.         50.\n",
      "  40.         40.         40.        ]\n",
      " [40.         40.         40.         50.         40.         40.\n",
      "  40.         40.         40.        ]\n",
      " [50.         50.         40.         40.         40.         40.\n",
      "  40.         30.         50.        ]\n",
      " [40.         50.         40.         40.         40.         50.\n",
      "  50.         50.         40.        ]\n",
      " [40.         50.         40.         40.         40.         40.\n",
      "  50.         40.         40.        ]\n",
      " [42.         50.         40.         40.         40.         40.\n",
      "  48.         20.         20.        ]]\n"
     ]
    }
   ],
   "source": [
    "# the use of the mean in the missing values \n",
    "\n",
    "imp = impute.SimpleImputer(missing_values=np.nan, strategy='mean')\n",
    "imp.fit(h_a)\n",
    "print(imp.transform(h_a))"
   ]
  },
  {
   "cell_type": "code",
   "execution_count": null,
   "metadata": {},
   "outputs": [
    {
     "name": "stdout",
     "output_type": "stream",
     "text": [
      "[[54285.  44660.  57130.  47100.  47100.  41950.  41200.  32075.  32075. ]\n",
      " [22310.   9828.  47100.  41200.  32075.  28755.  28755.  28755.  28755. ]\n",
      " [28755.  21210.   9828.      nan 54285.  41200.  41200.  32075.  32075. ]\n",
      " [32075.  22310.  22310.  54285.  32200.  54285.  32075.  54285.  46570. ]\n",
      " [32075.  32075.  25667.2 82415.  54285.  47100.  54285.  47100.  41200. ]\n",
      " [32200.  32075.  22310.      nan 82415.  54285.  54285.  47100.  41200. ]\n",
      " [32200.  32075.  32075.  44660.  54285.  47100.  47100.  41200.  29685. ]\n",
      " [82415.  54285.  54285.  47100.  32200.  32075.  27445.   9828.  54285. ]\n",
      " [32075.  54285.  32075.  41200.  32075.      nan 54285.  44000.  32075. ]\n",
      " [28755.  54285.  41200.  32075.  32075.  22310.  54285.  41200.  32075. ]\n",
      " [    nan 54285.  32075.  41200.  30350.  25670.  46435.   8320.  22401.6]]\n"
     ]
    }
   ],
   "source": [
    "# now we are doing the same as above for both salary lower and salary upper\n",
    "\n",
    "s_l = np.array(aldi_job_data['Salary lower']).reshape(11, 9)\n",
    "print(s_l)"
   ]
  },
  {
   "cell_type": "code",
   "execution_count": null,
   "metadata": {},
   "outputs": [
    {
     "name": "stdout",
     "output_type": "stream",
     "text": [
      "[[54285.  44660.  57130.  47100.  47100.  41950.  41200.  32075.  32075. ]\n",
      " [22310.   9828.  47100.  41200.  32075.  28755.  28755.  28755.  28755. ]\n",
      " [28755.  21210.   9828.  47915.  54285.  41200.  41200.  32075.  32075. ]\n",
      " [32075.  22310.  22310.  54285.  32200.  54285.  32075.  54285.  46570. ]\n",
      " [32075.  32075.  25667.2 82415.  54285.  47100.  54285.  47100.  41200. ]\n",
      " [32200.  32075.  22310.  47915.  82415.  54285.  54285.  47100.  41200. ]\n",
      " [32200.  32075.  32075.  44660.  54285.  47100.  47100.  41200.  29685. ]\n",
      " [82415.  54285.  54285.  47100.  32200.  32075.  27445.   9828.  54285. ]\n",
      " [32075.  54285.  32075.  41200.  32075.  39473.  54285.  44000.  32075. ]\n",
      " [28755.  54285.  41200.  32075.  32075.  22310.  54285.  41200.  32075. ]\n",
      " [37714.5 54285.  32075.  41200.  30350.  25670.  46435.   8320.  22401.6]]\n"
     ]
    }
   ],
   "source": [
    "imp = impute.SimpleImputer(missing_values=np.nan, strategy='mean')\n",
    "imp.fit(s_l)\n",
    "print(imp.transform(s_l))"
   ]
  },
  {
   "cell_type": "code",
   "execution_count": null,
   "metadata": {},
   "outputs": [
    {
     "name": "stdout",
     "output_type": "stream",
     "text": [
      "[[ 79040.   93655.   74430.   54255.   54255.   50475.   45225.   37455.\n",
      "   37455. ]\n",
      " [ 27450.   16952.   54255.   45225.   37455.   39330.   39330.   39330.\n",
      "   39330. ]\n",
      " [ 39330.   30865.   16952.       nan  79040.   45225.   45225.   37455.\n",
      "   37455. ]\n",
      " [ 37455.   27450.   27450.   79040.   46590.   79040.   37455.   79040.\n",
      "   51580. ]\n",
      " [ 37455.   37455.   31137.6 102875.   79040.   54255.   70415.   54255.\n",
      "   45225. ]\n",
      " [ 46590.   37455.   27450.       nan 102875.   79040.   70415.   54255.\n",
      "   45225. ]\n",
      " [ 46590.   37455.   37455.   79040.   70415.   54255.   54255.   45225.\n",
      "   36860. ]\n",
      " [102875.   79040.   70415.   54255.   46590.   37455.   30670.   16952.\n",
      "   79040. ]\n",
      " [ 37455.   79040.   37455.   45225.   37455.       nan  79040.   79040.\n",
      "   37455. ]\n",
      " [ 39330.   79040.   45225.   37455.   37455.   27450.   79040.   45225.\n",
      "   37455. ]\n",
      " [     nan  79040.   37455.   45225.   36055.   31100.   50430.   28662.4\n",
      "   26582.4]]\n"
     ]
    }
   ],
   "source": [
    "s_u = np.array(aldi_job_data['Salary upper']).reshape(11, 9)\n",
    "print(s_u)"
   ]
  },
  {
   "cell_type": "code",
   "execution_count": null,
   "metadata": {},
   "outputs": [
    {
     "name": "stdout",
     "output_type": "stream",
     "text": [
      "[[ 79040.          93655.          74430.          54255.\n",
      "   54255.          50475.          45225.          37455.\n",
      "   37455.        ]\n",
      " [ 27450.          16952.          54255.          45225.\n",
      "   37455.          39330.          39330.          39330.\n",
      "   39330.        ]\n",
      " [ 39330.          30865.          16952.          60288.33333333\n",
      "   79040.          45225.          45225.          37455.\n",
      "   37455.        ]\n",
      " [ 37455.          27450.          27450.          79040.\n",
      "   46590.          79040.          37455.          79040.\n",
      "   51580.        ]\n",
      " [ 37455.          37455.          31137.6        102875.\n",
      "   79040.          54255.          70415.          54255.\n",
      "   45225.        ]\n",
      " [ 46590.          37455.          27450.          60288.33333333\n",
      "  102875.          79040.          70415.          54255.\n",
      "   45225.        ]\n",
      " [ 46590.          37455.          37455.          79040.\n",
      "   70415.          54255.          54255.          45225.\n",
      "   36860.        ]\n",
      " [102875.          79040.          70415.          54255.\n",
      "   46590.          37455.          30670.          16952.\n",
      "   79040.        ]\n",
      " [ 37455.          79040.          37455.          45225.\n",
      "   37455.          49762.5         79040.          79040.\n",
      "   37455.        ]\n",
      " [ 39330.          79040.          45225.          37455.\n",
      "   37455.          27450.          79040.          45225.\n",
      "   37455.        ]\n",
      " [ 49357.          79040.          37455.          45225.\n",
      "   36055.          31100.          50430.          28662.4\n",
      "   26582.4       ]]\n"
     ]
    }
   ],
   "source": [
    "imp = impute.SimpleImputer(missing_values=np.nan, strategy='mean')\n",
    "imp.fit(s_u)\n",
    "print(imp.transform(s_u))"
   ]
  },
  {
   "cell_type": "markdown",
   "metadata": {},
   "source": [
    "## Now we can remove all the rows with missing values and check the shape of the data and see how our dataframe is transformed\n",
    "\n",
    "print(aldi_job_data.shape) #\n",
    "aldi_job_data.dropna(axis=0,inplace=True) #\n",
    "print(aldi_job_data.shape)\n",
    "\n",
    "## I won't run this code in order to get full results for the details below in every row"
   ]
  },
  {
   "cell_type": "code",
   "execution_count": null,
   "metadata": {},
   "outputs": [],
   "source": [
    "# now I am gonna calculate the average salary for every job position (by combining the 2 salaries of 'lower' and 'upper' in every case)\n",
    "# this creation (average salaries) is a feature of competitive intelligence when analyzing the posting data and could play a significant role in approaching more applicants\n",
    "\n",
    "mean_salaries = (aldi_job_data[['Salary lower', 'Salary upper']].mean(axis=1))"
   ]
  },
  {
   "cell_type": "code",
   "execution_count": null,
   "metadata": {},
   "outputs": [
    {
     "data": {
      "text/plain": [
       "0     66662.5\n",
       "1     69157.5\n",
       "2     65780.0\n",
       "3     50677.5\n",
       "4     50677.5\n",
       "       ...   \n",
       "94    33202.5\n",
       "95    28385.0\n",
       "96    48432.5\n",
       "97    18491.2\n",
       "98    24492.0\n",
       "Length: 99, dtype: float64"
      ]
     },
     "execution_count": 49,
     "metadata": {},
     "output_type": "execute_result"
    }
   ],
   "source": [
    "mean_salaries"
   ]
  },
  {
   "cell_type": "code",
   "execution_count": null,
   "metadata": {},
   "outputs": [],
   "source": [
    "# now i am gonna create a new dataframe with the columns that i only want to use below (add the Average salaries and remove some other aspects from my previous dataframe)\n",
    "\n",
    "aldi_job_data0 = pd.DataFrame({'Department' : aldi_job_data['Department'], 'Job title' : aldi_job_data['Job title'], 'Salary lower' : aldi_job_data['Salary lower'], 'Salary upper' : aldi_job_data['Salary upper'], 'Average salaries' : mean_salaries, 'Weekly hours' : aldi_job_data['Weekly hours']})"
   ]
  },
  {
   "cell_type": "code",
   "execution_count": null,
   "metadata": {},
   "outputs": [
    {
     "data": {
      "text/html": [
       "<div>\n",
       "<style scoped>\n",
       "    .dataframe tbody tr th:only-of-type {\n",
       "        vertical-align: middle;\n",
       "    }\n",
       "\n",
       "    .dataframe tbody tr th {\n",
       "        vertical-align: top;\n",
       "    }\n",
       "\n",
       "    .dataframe thead th {\n",
       "        text-align: right;\n",
       "    }\n",
       "</style>\n",
       "<table border=\"1\" class=\"dataframe\">\n",
       "  <thead>\n",
       "    <tr style=\"text-align: right;\">\n",
       "      <th></th>\n",
       "      <th>Department</th>\n",
       "      <th>Job title</th>\n",
       "      <th>Salary lower</th>\n",
       "      <th>Salary upper</th>\n",
       "      <th>Average salaries</th>\n",
       "      <th>Weekly hours</th>\n",
       "    </tr>\n",
       "  </thead>\n",
       "  <tbody>\n",
       "    <tr>\n",
       "      <th>0</th>\n",
       "      <td>national administration</td>\n",
       "      <td>National Finance &amp; Administration Manager</td>\n",
       "      <td>54285.0</td>\n",
       "      <td>79040.0</td>\n",
       "      <td>66662.5</td>\n",
       "      <td>50.0</td>\n",
       "    </tr>\n",
       "    <tr>\n",
       "      <th>1</th>\n",
       "      <td>national administration</td>\n",
       "      <td>National Tax Manager</td>\n",
       "      <td>44660.0</td>\n",
       "      <td>93655.0</td>\n",
       "      <td>69157.5</td>\n",
       "      <td>50.0</td>\n",
       "    </tr>\n",
       "    <tr>\n",
       "      <th>2</th>\n",
       "      <td>national administration</td>\n",
       "      <td>Data Scientist</td>\n",
       "      <td>57130.0</td>\n",
       "      <td>74430.0</td>\n",
       "      <td>65780.0</td>\n",
       "      <td>40.0</td>\n",
       "    </tr>\n",
       "    <tr>\n",
       "      <th>3</th>\n",
       "      <td>national administration</td>\n",
       "      <td>National Finance &amp; Administration Team Leader</td>\n",
       "      <td>47100.0</td>\n",
       "      <td>54255.0</td>\n",
       "      <td>50677.5</td>\n",
       "      <td>40.0</td>\n",
       "    </tr>\n",
       "    <tr>\n",
       "      <th>4</th>\n",
       "      <td>national administration</td>\n",
       "      <td>Technical Analyst</td>\n",
       "      <td>47100.0</td>\n",
       "      <td>54255.0</td>\n",
       "      <td>50677.5</td>\n",
       "      <td>40.0</td>\n",
       "    </tr>\n",
       "    <tr>\n",
       "      <th>...</th>\n",
       "      <td>...</td>\n",
       "      <td>...</td>\n",
       "      <td>...</td>\n",
       "      <td>...</td>\n",
       "      <td>...</td>\n",
       "      <td>...</td>\n",
       "    </tr>\n",
       "    <tr>\n",
       "      <th>94</th>\n",
       "      <td>quality assurance</td>\n",
       "      <td>Sampling Chef</td>\n",
       "      <td>30350.0</td>\n",
       "      <td>36055.0</td>\n",
       "      <td>33202.5</td>\n",
       "      <td>40.0</td>\n",
       "    </tr>\n",
       "    <tr>\n",
       "      <th>95</th>\n",
       "      <td>quality assurance</td>\n",
       "      <td>Sampling Assistant</td>\n",
       "      <td>25670.0</td>\n",
       "      <td>31100.0</td>\n",
       "      <td>28385.0</td>\n",
       "      <td>40.0</td>\n",
       "    </tr>\n",
       "    <tr>\n",
       "      <th>96</th>\n",
       "      <td>quality control</td>\n",
       "      <td>Quality Control Leader</td>\n",
       "      <td>46435.0</td>\n",
       "      <td>50430.0</td>\n",
       "      <td>48432.5</td>\n",
       "      <td>48.0</td>\n",
       "    </tr>\n",
       "    <tr>\n",
       "      <th>97</th>\n",
       "      <td>quality control</td>\n",
       "      <td>Quality Control Deputy</td>\n",
       "      <td>8320.0</td>\n",
       "      <td>28662.4</td>\n",
       "      <td>18491.2</td>\n",
       "      <td>20.0</td>\n",
       "    </tr>\n",
       "    <tr>\n",
       "      <th>98</th>\n",
       "      <td>quality control</td>\n",
       "      <td>Quality Control Assistant</td>\n",
       "      <td>22401.6</td>\n",
       "      <td>26582.4</td>\n",
       "      <td>24492.0</td>\n",
       "      <td>20.0</td>\n",
       "    </tr>\n",
       "  </tbody>\n",
       "</table>\n",
       "<p>99 rows × 6 columns</p>\n",
       "</div>"
      ],
      "text/plain": [
       "                 Department                                      Job title  \\\n",
       "0   national administration      National Finance & Administration Manager   \n",
       "1   national administration                           National Tax Manager   \n",
       "2   national administration                                 Data Scientist   \n",
       "3   national administration  National Finance & Administration Team Leader   \n",
       "4   national administration                              Technical Analyst   \n",
       "..                      ...                                            ...   \n",
       "94        quality assurance                                  Sampling Chef   \n",
       "95        quality assurance                             Sampling Assistant   \n",
       "96          quality control                         Quality Control Leader   \n",
       "97          quality control                         Quality Control Deputy   \n",
       "98          quality control                      Quality Control Assistant   \n",
       "\n",
       "    Salary lower  Salary upper  Average salaries  Weekly hours  \n",
       "0        54285.0       79040.0           66662.5          50.0  \n",
       "1        44660.0       93655.0           69157.5          50.0  \n",
       "2        57130.0       74430.0           65780.0          40.0  \n",
       "3        47100.0       54255.0           50677.5          40.0  \n",
       "4        47100.0       54255.0           50677.5          40.0  \n",
       "..           ...           ...               ...           ...  \n",
       "94       30350.0       36055.0           33202.5          40.0  \n",
       "95       25670.0       31100.0           28385.0          40.0  \n",
       "96       46435.0       50430.0           48432.5          48.0  \n",
       "97        8320.0       28662.4           18491.2          20.0  \n",
       "98       22401.6       26582.4           24492.0          20.0  \n",
       "\n",
       "[99 rows x 6 columns]"
      ]
     },
     "execution_count": 51,
     "metadata": {},
     "output_type": "execute_result"
    }
   ],
   "source": [
    "aldi_job_data0"
   ]
  },
  {
   "cell_type": "code",
   "execution_count": null,
   "metadata": {},
   "outputs": [],
   "source": [
    "# I will groupby(Department) the above dataframe in order to make it applicable for my regression\n",
    "\n",
    "aldi_job_data0_new = aldi_job_data0.groupby(by='Department').mean().round(1)"
   ]
  },
  {
   "cell_type": "code",
   "execution_count": null,
   "metadata": {},
   "outputs": [
    {
     "data": {
      "text/html": [
       "<div>\n",
       "<style scoped>\n",
       "    .dataframe tbody tr th:only-of-type {\n",
       "        vertical-align: middle;\n",
       "    }\n",
       "\n",
       "    .dataframe tbody tr th {\n",
       "        vertical-align: top;\n",
       "    }\n",
       "\n",
       "    .dataframe thead th {\n",
       "        text-align: right;\n",
       "    }\n",
       "</style>\n",
       "<table border=\"1\" class=\"dataframe\">\n",
       "  <thead>\n",
       "    <tr style=\"text-align: right;\">\n",
       "      <th></th>\n",
       "      <th>Salary lower</th>\n",
       "      <th>Salary upper</th>\n",
       "      <th>Average salaries</th>\n",
       "      <th>Weekly hours</th>\n",
       "    </tr>\n",
       "    <tr>\n",
       "      <th>Department</th>\n",
       "      <th></th>\n",
       "      <th></th>\n",
       "      <th></th>\n",
       "      <th></th>\n",
       "    </tr>\n",
       "  </thead>\n",
       "  <tbody>\n",
       "    <tr>\n",
       "      <th>corporate responsibility</th>\n",
       "      <td>43180.0</td>\n",
       "      <td>58247.5</td>\n",
       "      <td>50713.8</td>\n",
       "      <td>45.0</td>\n",
       "    </tr>\n",
       "    <tr>\n",
       "      <th>customer service</th>\n",
       "      <td>38134.4</td>\n",
       "      <td>47333.5</td>\n",
       "      <td>42734.0</td>\n",
       "      <td>44.0</td>\n",
       "    </tr>\n",
       "    <tr>\n",
       "      <th>ecommerce</th>\n",
       "      <td>45885.6</td>\n",
       "      <td>57506.7</td>\n",
       "      <td>51696.1</td>\n",
       "      <td>42.9</td>\n",
       "    </tr>\n",
       "    <tr>\n",
       "      <th>global business coordination</th>\n",
       "      <td>46954.4</td>\n",
       "      <td>59163.8</td>\n",
       "      <td>53059.1</td>\n",
       "      <td>42.5</td>\n",
       "    </tr>\n",
       "    <tr>\n",
       "      <th>hr</th>\n",
       "      <td>44005.0</td>\n",
       "      <td>56675.0</td>\n",
       "      <td>50340.0</td>\n",
       "      <td>41.7</td>\n",
       "    </tr>\n",
       "    <tr>\n",
       "      <th>it</th>\n",
       "      <td>42454.1</td>\n",
       "      <td>54781.5</td>\n",
       "      <td>48617.8</td>\n",
       "      <td>41.2</td>\n",
       "    </tr>\n",
       "    <tr>\n",
       "      <th>marketing communications</th>\n",
       "      <td>43180.0</td>\n",
       "      <td>58247.5</td>\n",
       "      <td>50713.8</td>\n",
       "      <td>45.0</td>\n",
       "    </tr>\n",
       "    <tr>\n",
       "      <th>merchandising category</th>\n",
       "      <td>39908.8</td>\n",
       "      <td>49793.8</td>\n",
       "      <td>44851.2</td>\n",
       "      <td>42.5</td>\n",
       "    </tr>\n",
       "    <tr>\n",
       "      <th>national administration</th>\n",
       "      <td>39292.0</td>\n",
       "      <td>50541.6</td>\n",
       "      <td>44916.8</td>\n",
       "      <td>40.8</td>\n",
       "    </tr>\n",
       "    <tr>\n",
       "      <th>national buying</th>\n",
       "      <td>36401.5</td>\n",
       "      <td>46238.5</td>\n",
       "      <td>41320.0</td>\n",
       "      <td>42.0</td>\n",
       "    </tr>\n",
       "    <tr>\n",
       "      <th>national property</th>\n",
       "      <td>39778.8</td>\n",
       "      <td>58716.2</td>\n",
       "      <td>49247.5</td>\n",
       "      <td>46.0</td>\n",
       "    </tr>\n",
       "    <tr>\n",
       "      <th>quality assurance</th>\n",
       "      <td>36716.0</td>\n",
       "      <td>45775.0</td>\n",
       "      <td>41245.5</td>\n",
       "      <td>42.0</td>\n",
       "    </tr>\n",
       "    <tr>\n",
       "      <th>quality control</th>\n",
       "      <td>25718.9</td>\n",
       "      <td>35224.9</td>\n",
       "      <td>30471.9</td>\n",
       "      <td>29.3</td>\n",
       "    </tr>\n",
       "    <tr>\n",
       "      <th>regional administration</th>\n",
       "      <td>24973.3</td>\n",
       "      <td>34923.9</td>\n",
       "      <td>29948.6</td>\n",
       "      <td>38.6</td>\n",
       "    </tr>\n",
       "    <tr>\n",
       "      <th>supply chain management</th>\n",
       "      <td>38688.1</td>\n",
       "      <td>48543.1</td>\n",
       "      <td>43615.6</td>\n",
       "      <td>42.5</td>\n",
       "    </tr>\n",
       "  </tbody>\n",
       "</table>\n",
       "</div>"
      ],
      "text/plain": [
       "                              Salary lower  Salary upper  Average salaries  \\\n",
       "Department                                                                   \n",
       "corporate responsibility           43180.0       58247.5           50713.8   \n",
       "customer service                   38134.4       47333.5           42734.0   \n",
       "ecommerce                          45885.6       57506.7           51696.1   \n",
       "global business coordination       46954.4       59163.8           53059.1   \n",
       "hr                                 44005.0       56675.0           50340.0   \n",
       "it                                 42454.1       54781.5           48617.8   \n",
       "marketing communications           43180.0       58247.5           50713.8   \n",
       "merchandising category             39908.8       49793.8           44851.2   \n",
       "national administration            39292.0       50541.6           44916.8   \n",
       "national buying                    36401.5       46238.5           41320.0   \n",
       "national property                  39778.8       58716.2           49247.5   \n",
       "quality assurance                  36716.0       45775.0           41245.5   \n",
       "quality control                    25718.9       35224.9           30471.9   \n",
       "regional administration            24973.3       34923.9           29948.6   \n",
       "supply chain management            38688.1       48543.1           43615.6   \n",
       "\n",
       "                              Weekly hours  \n",
       "Department                                  \n",
       "corporate responsibility              45.0  \n",
       "customer service                      44.0  \n",
       "ecommerce                             42.9  \n",
       "global business coordination          42.5  \n",
       "hr                                    41.7  \n",
       "it                                    41.2  \n",
       "marketing communications              45.0  \n",
       "merchandising category                42.5  \n",
       "national administration               40.8  \n",
       "national buying                       42.0  \n",
       "national property                     46.0  \n",
       "quality assurance                     42.0  \n",
       "quality control                       29.3  \n",
       "regional administration               38.6  \n",
       "supply chain management               42.5  "
      ]
     },
     "execution_count": 53,
     "metadata": {},
     "output_type": "execute_result"
    }
   ],
   "source": [
    "aldi_job_data0_new"
   ]
  },
  {
   "cell_type": "code",
   "execution_count": null,
   "metadata": {},
   "outputs": [
    {
     "name": "stdout",
     "output_type": "stream",
     "text": [
      "                            OLS Regression Results                            \n",
      "==============================================================================\n",
      "Dep. Variable:       Average salaries   R-squared:                       0.545\n",
      "Model:                            OLS   Adj. R-squared:                  0.510\n",
      "Method:                 Least Squares   F-statistic:                     15.60\n",
      "Date:                Thu, 04 Nov 2021   Prob (F-statistic):            0.00166\n",
      "Time:                        00:14:15   Log-Likelihood:                -147.88\n",
      "No. Observations:                  15   AIC:                             299.8\n",
      "Df Residuals:                      13   BIC:                             301.2\n",
      "Df Model:                           1                                         \n",
      "Covariance Type:            nonrobust                                         \n",
      "================================================================================\n",
      "                   coef    std err          t      P>|t|      [0.025      0.975]\n",
      "--------------------------------------------------------------------------------\n",
      "const        -1.118e+04   1.43e+04     -0.784      0.447    -4.2e+04    1.96e+04\n",
      "Weekly hours  1343.7721    340.260      3.949      0.002     608.685    2078.859\n",
      "==============================================================================\n",
      "Omnibus:                        1.201   Durbin-Watson:                   1.562\n",
      "Prob(Omnibus):                  0.548   Jarque-Bera (JB):                0.654\n",
      "Skew:                          -0.501   Prob(JB):                        0.721\n",
      "Kurtosis:                       2.794   Cond. No.                         466.\n",
      "==============================================================================\n",
      "\n",
      "Notes:\n",
      "[1] Standard Errors assume that the covariance matrix of the errors is correctly specified.\n"
     ]
    },
    {
     "name": "stderr",
     "output_type": "stream",
     "text": [
      "/Users/georgekalfas/opt/anaconda3/lib/python3.8/site-packages/scipy/stats/stats.py:1541: UserWarning: kurtosistest only valid for n>=20 ... continuing anyway, n=15\n",
      "  warnings.warn(\"kurtosistest only valid for n>=20 ... continuing \"\n"
     ]
    }
   ],
   "source": [
    "# now i will create a regression between departments and average salaries (hypothesis)\n",
    "\n",
    "x = aldi_job_data0_new['Weekly hours']\n",
    "y = aldi_job_data0_new['Average salaries']\n",
    "x = sm.add_constant(x)\n",
    "lm = sm.OLS(y, x).fit()\n",
    "print(lm.summary())"
   ]
  },
  {
   "cell_type": "markdown",
   "metadata": {},
   "source": [
    "# Regression Analysis Conclusions\n",
    "\n",
    "1. The constant coefficient value of -1.118e+04 indicates a negative starting point for our graph line.\n",
    "\n",
    "2. The R-squared value of 0.545 suggests a moderately good fit for the model, with a higher value indicating a better fit (closer to 1).\n",
    "\n",
    "3. The low p-value (Pr>|t| = 0.002) in the hypothesis test for the coefficient implies that we can reject the null hypothesis (coef!=0). Therefore, our hypothesis regarding an increase in average salaries due to more weekly hours is supported.\n",
    "\n",
    "   - This indicates a linear association between the predictor (weekly hours) and the response (average salary).\n",
    "\n",
    "4. The low p-value for the F-statistic (Prob (F-statistic): 0.00166) suggests rejecting the null hypothesis (β=0), further supporting the relationship between weekly hours and average salary.\n"
   ]
  },
  {
   "cell_type": "code",
   "execution_count": null,
   "metadata": {},
   "outputs": [],
   "source": []
  }
 ],
 "metadata": {
  "interpreter": {
   "hash": "14ca62385630e80b5c4ce7904863b62bddb6543d945de0683be07a870abfe95e"
  },
  "kernelspec": {
   "display_name": "Python 3.8.12 64-bit ('base': conda)",
   "name": "python3"
  },
  "language_info": {
   "codemirror_mode": {
    "name": "ipython",
    "version": 3
   },
   "file_extension": ".py",
   "mimetype": "text/x-python",
   "name": "python",
   "nbconvert_exporter": "python",
   "pygments_lexer": "ipython3",
   "version": "3.9.12"
  },
  "orig_nbformat": 4
 },
 "nbformat": 4,
 "nbformat_minor": 2
}
